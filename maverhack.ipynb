{
 "cells": [
  {
   "cell_type": "code",
   "execution_count": 1,
   "id": "14aeba44",
   "metadata": {
    "_cell_guid": "b1076dfc-b9ad-4769-8c92-a6c4dae69d19",
    "_uuid": "8f2839f25d086af736a60e9eeb907d3b93b6e0e5",
    "execution": {
     "iopub.execute_input": "2025-06-14T09:36:35.917209Z",
     "iopub.status.busy": "2025-06-14T09:36:35.916859Z",
     "iopub.status.idle": "2025-06-14T09:36:37.977187Z",
     "shell.execute_reply": "2025-06-14T09:36:37.975643Z"
    },
    "papermill": {
     "duration": 2.068299,
     "end_time": "2025-06-14T09:36:37.979605",
     "exception": false,
     "start_time": "2025-06-14T09:36:35.911306",
     "status": "completed"
    },
    "tags": []
   },
   "outputs": [
    {
     "name": "stdout",
     "output_type": "stream",
     "text": [
      "/kaggle/input/burnout-datathon-ieeecsmuj/sample_submission.csv\n",
      "/kaggle/input/burnout-datathon-ieeecsmuj/val.csv\n",
      "/kaggle/input/burnout-datathon-ieeecsmuj/train.csv\n",
      "/kaggle/input/burnout-datathon-ieeecsmuj/test.csv\n"
     ]
    }
   ],
   "source": [
    "# This Python 3 environment comes with many helpful analytics libraries installed\n",
    "# It is defined by the kaggle/python Docker image: https://github.com/kaggle/docker-python\n",
    "# For example, here's several helpful packages to load\n",
    "\n",
    "import numpy as np # linear algebra\n",
    "import pandas as pd # data processing, CSV file I/O (e.g. pd.read_csv)\n",
    "\n",
    "# Input data files are available in the read-only \"../input/\" directory\n",
    "# For example, running this (by clicking run or pressing Shift+Enter) will list all files under the input directory\n",
    "\n",
    "import os\n",
    "for dirname, _, filenames in os.walk('/kaggle/input'):\n",
    "    for filename in filenames:\n",
    "        print(os.path.join(dirname, filename))\n",
    "\n",
    "# You can write up to 20GB to the current directory (/kaggle/working/) that gets preserved as output when you create a version using \"Save & Run All\" \n",
    "# You can also write temporary files to /kaggle/temp/, but they won't be saved outside of the current session"
   ]
  },
  {
   "cell_type": "code",
   "execution_count": 2,
   "id": "6c7b5975",
   "metadata": {
    "execution": {
     "iopub.execute_input": "2025-06-14T09:36:37.992103Z",
     "iopub.status.busy": "2025-06-14T09:36:37.990989Z",
     "iopub.status.idle": "2025-06-14T09:36:40.456987Z",
     "shell.execute_reply": "2025-06-14T09:36:40.456117Z"
    },
    "papermill": {
     "duration": 2.472312,
     "end_time": "2025-06-14T09:36:40.458651",
     "exception": false,
     "start_time": "2025-06-14T09:36:37.986339",
     "status": "completed"
    },
    "tags": []
   },
   "outputs": [],
   "source": [
    "import os\n",
    "import numpy as np\n",
    "import pandas as pd\n",
    "from catboost import CatBoostRegressor, Pool\n",
    "from sklearn.model_selection import KFold\n",
    "from sklearn.metrics import mean_squared_error"
   ]
  },
  {
   "cell_type": "code",
   "execution_count": 3,
   "id": "4fbd20f8",
   "metadata": {
    "execution": {
     "iopub.execute_input": "2025-06-14T09:36:40.466618Z",
     "iopub.status.busy": "2025-06-14T09:36:40.466114Z",
     "iopub.status.idle": "2025-06-14T09:37:25.101872Z",
     "shell.execute_reply": "2025-06-14T09:37:25.100728Z"
    },
    "papermill": {
     "duration": 44.644767,
     "end_time": "2025-06-14T09:37:25.106772",
     "exception": false,
     "start_time": "2025-06-14T09:36:40.462005",
     "status": "completed"
    },
    "tags": []
   },
   "outputs": [
    {
     "name": "stdout",
     "output_type": "stream",
     "text": [
      "\u001b[2K   \u001b[90m━━━━━━━━━━━━━━━━━━━━━━━━━━━━━━━━━━━━━━━━\u001b[0m \u001b[32m13.0/13.0 MB\u001b[0m \u001b[31m80.0 MB/s\u001b[0m eta \u001b[36m0:00:00\u001b[0m\r\n",
      "\u001b[?25h\u001b[31mERROR: pip's dependency resolver does not currently take into account all the packages that are installed. This behaviour is the source of the following dependency conflicts.\r\n",
      "datasets 3.6.0 requires fsspec[http]<=2025.3.0,>=2023.1.0, but you have fsspec 2025.3.2 which is incompatible.\r\n",
      "cesium 0.12.4 requires numpy<3.0,>=2.0, but you have numpy 1.26.4 which is incompatible.\r\n",
      "google-colab 1.0.0 requires google-auth==2.38.0, but you have google-auth 2.40.1 which is incompatible.\r\n",
      "google-colab 1.0.0 requires notebook==6.5.7, but you have notebook 6.5.4 which is incompatible.\r\n",
      "dopamine-rl 4.1.2 requires gymnasium>=1.0.0, but you have gymnasium 0.29.0 which is incompatible.\r\n",
      "bigframes 1.42.0 requires rich<14,>=12.4.4, but you have rich 14.0.0 which is incompatible.\r\n",
      "plotnine 0.14.5 requires matplotlib>=3.8.0, but you have matplotlib 3.7.2 which is incompatible.\r\n",
      "pandas-gbq 0.28.0 requires google-api-core<3.0.0dev,>=2.10.2, but you have google-api-core 1.34.1 which is incompatible.\r\n",
      "mlxtend 0.23.4 requires scikit-learn>=1.3.1, but you have scikit-learn 1.2.2 which is incompatible.\u001b[0m\u001b[31m\r\n",
      "\u001b[0mTrain shape: (1914056, 45)   Test shape: (546874, 44)\n"
     ]
    }
   ],
   "source": [
    "# =============================================================\n",
    "# Pure XGBoost lap‑time predictor (single split, early stopping)\n",
    "# =============================================================\n",
    "!pip install --quiet xgboost==2.0.3 pandas==2.2.2\n",
    "\n",
    "import pandas as pd, numpy as np, os, xgboost as xgb, time, gc\n",
    "from sklearn.model_selection import train_test_split\n",
    "from sklearn.metrics import mean_squared_error\n",
    "\n",
    "# ── 1.  Paths & column names ─────────────────────────────────\n",
    "DATA_DIR = \"/kaggle/input/burnout-datathon-ieeecsmuj\"   \n",
    "TARGET   = \"Lap_Time_Seconds\"                # ⬅️ lap‑time column\n",
    "ID_COL   = \"Unique ID\"                       # ⬅️ ID column for submission\n",
    "\n",
    "train_df = pd.read_csv(os.path.join(DATA_DIR, \"train.csv\"))\n",
    "test_df  = pd.read_csv(os.path.join(DATA_DIR, \"test.csv\"))\n",
    "print(\"Train shape:\", train_df.shape, \"  Test shape:\", test_df.shape)\n"
   ]
  },
  {
   "cell_type": "code",
   "execution_count": 4,
   "id": "d917ff2a",
   "metadata": {
    "execution": {
     "iopub.execute_input": "2025-06-14T09:37:25.116047Z",
     "iopub.status.busy": "2025-06-14T09:37:25.115704Z",
     "iopub.status.idle": "2025-06-14T09:37:27.077464Z",
     "shell.execute_reply": "2025-06-14T09:37:27.076371Z"
    },
    "papermill": {
     "duration": 1.969113,
     "end_time": "2025-06-14T09:37:27.079584",
     "exception": false,
     "start_time": "2025-06-14T09:37:25.110471",
     "status": "completed"
    },
    "tags": []
   },
   "outputs": [],
   "source": [
    "# ── 2.  Minimal feature engineering (checks each column) ────\n",
    "def add_features(df):\n",
    "    if {\"Circuit_Length_km\", \"Avg_Speed_kmh\"}.issubset(df.columns):\n",
    "        df[\"secs_per_km\"] = (df[\"Circuit_Length_km\"] / df[\"Avg_Speed_kmh\"]) * 3600\n",
    "    if {\"Track_Temperature_Celsius\", \"Ambient_Temperature_Celsius\"}.issubset(df.columns):\n",
    "        df[\"track_minus_air\"] = df[\"Track_Temperature_Celsius\"] - df[\"Ambient_Temperature_Celsius\"]\n",
    "    if \"Track_Condition\" in df.columns:\n",
    "        df[\"is_wet\"] = df[\"Track_Condition\"].str.contains(\"Wet\", case=False, na=False).astype(int)\n",
    "    if {\"Tire_Compound_Front\", \"Tire_Compound_Rear\"}.issubset(df.columns):\n",
    "        df[\"tire_combo\"] = df[\"Tire_Compound_Front\"].fillna(\"\") + \"_\" + df[\"Tire_Compound_Rear\"].fillna(\"\")\n",
    "    return df\n",
    "\n",
    "train_df = add_features(train_df);  test_df = add_features(test_df)\n"
   ]
  },
  {
   "cell_type": "code",
   "execution_count": 5,
   "id": "ca3668e0",
   "metadata": {
    "execution": {
     "iopub.execute_input": "2025-06-14T09:37:27.088714Z",
     "iopub.status.busy": "2025-06-14T09:37:27.088294Z",
     "iopub.status.idle": "2025-06-14T09:37:28.301349Z",
     "shell.execute_reply": "2025-06-14T09:37:28.300392Z"
    },
    "papermill": {
     "duration": 1.219428,
     "end_time": "2025-06-14T09:37:28.303032",
     "exception": false,
     "start_time": "2025-06-14T09:37:27.083604",
     "status": "completed"
    },
    "tags": []
   },
   "outputs": [],
   "source": [
    "# ── 3.  Convert position numeric → categorical string (if present) ──\n",
    "if \"position\" in train_df.columns:\n",
    "    train_df[\"Position_cat\"] = train_df[\"position\"].astype(str)\n",
    "    test_df[\"Position_cat\"]  = test_df[\"position\"].astype(str)\n",
    "    train_df.drop(columns=[\"position\"], inplace=True)\n",
    "    test_df.drop(columns=[\"position\"],  inplace=True)"
   ]
  },
  {
   "cell_type": "code",
   "execution_count": 6,
   "id": "3af0d1e3",
   "metadata": {
    "execution": {
     "iopub.execute_input": "2025-06-14T09:37:28.314935Z",
     "iopub.status.busy": "2025-06-14T09:37:28.314527Z",
     "iopub.status.idle": "2025-06-14T09:37:35.824900Z",
     "shell.execute_reply": "2025-06-14T09:37:35.823914Z"
    },
    "papermill": {
     "duration": 7.517206,
     "end_time": "2025-06-14T09:37:35.826497",
     "exception": false,
     "start_time": "2025-06-14T09:37:28.309291",
     "status": "completed"
    },
    "tags": []
   },
   "outputs": [
    {
     "name": "stderr",
     "output_type": "stream",
     "text": [
      "/tmp/ipykernel_13/41244590.py:14: FutureWarning: A value is trying to be set on a copy of a DataFrame or Series through chained assignment using an inplace method.\n",
      "The behavior will change in pandas 3.0. This inplace method will never work because the intermediate object on which we are setting values always behaves as a copy.\n",
      "\n",
      "For example, when doing 'df[col].method(value, inplace=True)', try using 'df.method({col: value}, inplace=True)' or df[col] = df[col].method(value) instead, to perform the operation inplace on the original object.\n",
      "\n",
      "\n",
      "  train_df[col].fillna(med, inplace=True)\n",
      "/tmp/ipykernel_13/41244590.py:15: FutureWarning: A value is trying to be set on a copy of a DataFrame or Series through chained assignment using an inplace method.\n",
      "The behavior will change in pandas 3.0. This inplace method will never work because the intermediate object on which we are setting values always behaves as a copy.\n",
      "\n",
      "For example, when doing 'df[col].method(value, inplace=True)', try using 'df.method({col: value}, inplace=True)' or df[col] = df[col].method(value) instead, to perform the operation inplace on the original object.\n",
      "\n",
      "\n",
      "  test_df[col].fillna(med,  inplace=True)\n"
     ]
    },
    {
     "name": "stdout",
     "output_type": "stream",
     "text": [
      "Using 48 features (15 categorical).\n"
     ]
    }
   ],
   "source": [
    "# ── 4.  Identify categorical & numeric columns robustly ──────\n",
    "cat_cols = [c for c in train_df.columns\n",
    "            if train_df[c].dtype == \"object\" or train_df[c].dtype.name == \"category\"]\n",
    "num_cols = [c for c in train_df.columns if c not in cat_cols + [TARGET]]\n",
    "\n",
    "# Keep only cats present in both frames\n",
    "cat_cols = [c for c in cat_cols if c in test_df.columns]\n",
    "\n",
    "# Fill NaNs\n",
    "train_df[cat_cols] = train_df[cat_cols].fillna(\"missing\")\n",
    "test_df[cat_cols]  = test_df[cat_cols].fillna(\"missing\")\n",
    "for col in num_cols:\n",
    "    med = train_df[col].median()\n",
    "    train_df[col].fillna(med, inplace=True)\n",
    "    test_df[col].fillna(med,  inplace=True)\n",
    "\n",
    "# Cast categorical dtype for XGB native cats\n",
    "for c in cat_cols:\n",
    "    train_df[c] = train_df[c].astype(\"category\")\n",
    "    test_df[c]  = test_df[c].astype(\"category\")\n",
    "\n",
    "feature_cols = cat_cols + num_cols\n",
    "print(f\"Using {len(feature_cols)} features ({len(cat_cols)} categorical).\")"
   ]
  },
  {
   "cell_type": "code",
   "execution_count": 7,
   "id": "8475a8c0",
   "metadata": {
    "execution": {
     "iopub.execute_input": "2025-06-14T09:37:35.835206Z",
     "iopub.status.busy": "2025-06-14T09:37:35.834891Z",
     "iopub.status.idle": "2025-06-14T09:37:40.271763Z",
     "shell.execute_reply": "2025-06-14T09:37:40.270804Z"
    },
    "papermill": {
     "duration": 4.443372,
     "end_time": "2025-06-14T09:37:40.273754",
     "exception": false,
     "start_time": "2025-06-14T09:37:35.830382",
     "status": "completed"
    },
    "tags": []
   },
   "outputs": [],
   "source": [
    "# ── 5.  Train‑validation split ───────────────────────────────\n",
    "X_train, X_val, y_train, y_val = train_test_split(\n",
    "    train_df[feature_cols], train_df[TARGET],\n",
    "    test_size=0.2, random_state=42\n",
    ")\n",
    "\n",
    "dtrain = xgb.DMatrix(X_train, label=y_train, enable_categorical=True)\n",
    "dval   = xgb.DMatrix(X_val,   label=y_val,   enable_categorical=True)\n",
    "dtest  = xgb.DMatrix(test_df[feature_cols], enable_categorical=True)"
   ]
  },
  {
   "cell_type": "code",
   "execution_count": 8,
   "id": "f6f347d1",
   "metadata": {
    "execution": {
     "iopub.execute_input": "2025-06-14T09:37:40.284713Z",
     "iopub.status.busy": "2025-06-14T09:37:40.284371Z",
     "iopub.status.idle": "2025-06-14T10:12:52.415473Z",
     "shell.execute_reply": "2025-06-14T10:12:52.414292Z"
    },
    "papermill": {
     "duration": 2112.139055,
     "end_time": "2025-06-14T10:12:52.417608",
     "exception": false,
     "start_time": "2025-06-14T09:37:40.278553",
     "status": "completed"
    },
    "tags": []
   },
   "outputs": [
    {
     "name": "stderr",
     "output_type": "stream",
     "text": [
      "/usr/local/lib/python3.11/dist-packages/xgboost/core.py:160: UserWarning: [09:37:40] WARNING: /workspace/src/learner.cc:742: \n",
      "Parameters: { \"enable_categorical\" } are not used.\n",
      "\n",
      "  warnings.warn(smsg, UserWarning)\n"
     ]
    },
    {
     "name": "stdout",
     "output_type": "stream",
     "text": [
      "[0]\tval-rmse:11.53022\n",
      "[250]\tval-rmse:9.30236\n",
      "[500]\tval-rmse:6.57608\n",
      "[750]\tval-rmse:4.48289\n",
      "[1000]\tval-rmse:3.07405\n",
      "[1250]\tval-rmse:2.20035\n",
      "[1500]\tval-rmse:1.54698\n",
      "[1750]\tval-rmse:1.09824\n",
      "[2000]\tval-rmse:0.77363\n",
      "[2250]\tval-rmse:0.55098\n",
      "[2500]\tval-rmse:0.39761\n",
      "[2750]\tval-rmse:0.28674\n",
      "[3000]\tval-rmse:0.21577\n",
      "[3250]\tval-rmse:0.16657\n",
      "[3500]\tval-rmse:0.13309\n",
      "[3750]\tval-rmse:0.10816\n",
      "[4000]\tval-rmse:0.09129\n",
      "[4250]\tval-rmse:0.07856\n",
      "[4500]\tval-rmse:0.06928\n",
      "[4750]\tval-rmse:0.06222\n",
      "[4999]\tval-rmse:0.05681\n",
      "⏱️  Training time: 2112.1 s\n",
      "🔎 Best iteration: 4999\n",
      "🏁 Best val RMSE: 0.05681306002656589\n"
     ]
    }
   ],
   "source": [
    "# ── 6.  XGBoost parameters & training ────────────────────────\n",
    "params = {\n",
    "    \"objective\": \"reg:squarederror\",\n",
    "    \"eval_metric\": \"rmse\",\n",
    "    \"learning_rate\": 0.05,\n",
    "    \"max_depth\": 8,\n",
    "    \"subsample\": 0.8,\n",
    "    \"colsample_bytree\": 0.8,\n",
    "    \"min_child_weight\": 10,\n",
    "    \"lambda\": 3.0,\n",
    "    \"tree_method\": \"hist\",          # ➡ “gpu_hist” if you enabled GPU runtime\n",
    "    \"enable_categorical\": True,\n",
    "    \"seed\": 42,\n",
    "}\n",
    "\n",
    "start = time.time()\n",
    "model = xgb.train(\n",
    "    params,\n",
    "    dtrain,\n",
    "    num_boost_round=5000,\n",
    "    evals=[(dval, \"val\")],\n",
    "    early_stopping_rounds=200,\n",
    "    verbose_eval=250\n",
    ")\n",
    "print(f\"⏱️  Training time: {time.time()-start:.1f} s\")\n",
    "print(\"🔎 Best iteration:\", model.best_iteration)\n",
    "print(\"🏁 Best val RMSE:\", model.best_score)"
   ]
  },
  {
   "cell_type": "code",
   "execution_count": 9,
   "id": "ea52e9d0",
   "metadata": {
    "execution": {
     "iopub.execute_input": "2025-06-14T10:12:52.429255Z",
     "iopub.status.busy": "2025-06-14T10:12:52.428843Z",
     "iopub.status.idle": "2025-06-14T10:15:30.210341Z",
     "shell.execute_reply": "2025-06-14T10:15:30.209306Z"
    },
    "papermill": {
     "duration": 157.798211,
     "end_time": "2025-06-14T10:15:30.221005",
     "exception": false,
     "start_time": "2025-06-14T10:12:52.422794",
     "status": "completed"
    },
    "tags": []
   },
   "outputs": [
    {
     "name": "stdout",
     "output_type": "stream",
     "text": [
      "✅ submission_xgb.csv saved: (546874, 2)\n"
     ]
    },
    {
     "data": {
      "text/html": [
       "<div>\n",
       "<style scoped>\n",
       "    .dataframe tbody tr th:only-of-type {\n",
       "        vertical-align: middle;\n",
       "    }\n",
       "\n",
       "    .dataframe tbody tr th {\n",
       "        vertical-align: top;\n",
       "    }\n",
       "\n",
       "    .dataframe thead th {\n",
       "        text-align: right;\n",
       "    }\n",
       "</style>\n",
       "<table border=\"1\" class=\"dataframe\">\n",
       "  <thead>\n",
       "    <tr style=\"text-align: right;\">\n",
       "      <th></th>\n",
       "      <th>Unique ID</th>\n",
       "      <th>Lap_Time_Seconds</th>\n",
       "    </tr>\n",
       "  </thead>\n",
       "  <tbody>\n",
       "    <tr>\n",
       "      <th>0</th>\n",
       "      <td>288307</td>\n",
       "      <td>89.853821</td>\n",
       "    </tr>\n",
       "    <tr>\n",
       "      <th>1</th>\n",
       "      <td>704288</td>\n",
       "      <td>104.082764</td>\n",
       "    </tr>\n",
       "    <tr>\n",
       "      <th>2</th>\n",
       "      <td>951491</td>\n",
       "      <td>86.450500</td>\n",
       "    </tr>\n",
       "    <tr>\n",
       "      <th>3</th>\n",
       "      <td>2591721</td>\n",
       "      <td>109.790520</td>\n",
       "    </tr>\n",
       "    <tr>\n",
       "      <th>4</th>\n",
       "      <td>1202653</td>\n",
       "      <td>99.353638</td>\n",
       "    </tr>\n",
       "  </tbody>\n",
       "</table>\n",
       "</div>"
      ],
      "text/plain": [
       "   Unique ID  Lap_Time_Seconds\n",
       "0     288307         89.853821\n",
       "1     704288        104.082764\n",
       "2     951491         86.450500\n",
       "3    2591721        109.790520\n",
       "4    1202653         99.353638"
      ]
     },
     "execution_count": 9,
     "metadata": {},
     "output_type": "execute_result"
    }
   ],
   "source": [
    "# ── 7.  Predict on test & create submission ──────────────────\n",
    "test_preds = model.predict(dtest, iteration_range=(0, model.best_iteration + 1))\n",
    "submission = pd.DataFrame({ID_COL: test_df[ID_COL], TARGET: test_preds})\n",
    "submission.to_csv(\"submission_xgb.csv\", index=False)\n",
    "print(\"✅ submission_xgb.csv saved:\", submission.shape)\n",
    "submission.head()"
   ]
  },
  {
   "cell_type": "code",
   "execution_count": 10,
   "id": "8d444bf3",
   "metadata": {
    "execution": {
     "iopub.execute_input": "2025-06-14T10:15:30.234765Z",
     "iopub.status.busy": "2025-06-14T10:15:30.234433Z",
     "iopub.status.idle": "2025-06-14T10:15:30.239924Z",
     "shell.execute_reply": "2025-06-14T10:15:30.238791Z"
    },
    "papermill": {
     "duration": 0.014956,
     "end_time": "2025-06-14T10:15:30.241872",
     "exception": false,
     "start_time": "2025-06-14T10:15:30.226916",
     "status": "completed"
    },
    "tags": []
   },
   "outputs": [
    {
     "name": "stdout",
     "output_type": "stream",
     "text": [
      "Files in /kaggle/working/: ['__notebook__.ipynb', 'submission_xgb.csv']\n"
     ]
    }
   ],
   "source": [
    "import os\n",
    "print(\"Files in /kaggle/working/:\", os.listdir(\"/kaggle/working/\"))\n"
   ]
  },
  {
   "cell_type": "code",
   "execution_count": 11,
   "id": "a77401c0",
   "metadata": {
    "execution": {
     "iopub.execute_input": "2025-06-14T10:15:30.258921Z",
     "iopub.status.busy": "2025-06-14T10:15:30.257894Z",
     "iopub.status.idle": "2025-06-14T10:15:30.264163Z",
     "shell.execute_reply": "2025-06-14T10:15:30.263201Z"
    },
    "papermill": {
     "duration": 0.014808,
     "end_time": "2025-06-14T10:15:30.265690",
     "exception": false,
     "start_time": "2025-06-14T10:15:30.250882",
     "status": "completed"
    },
    "tags": []
   },
   "outputs": [
    {
     "name": "stdout",
     "output_type": "stream",
     "text": [
      "Files in working directory: ['__notebook__.ipynb', 'submission_xgb.csv']\n"
     ]
    }
   ],
   "source": [
    "import os\n",
    "\n",
    "# List all files in the current directory\n",
    "print(\"Files in working directory:\", os.listdir())\n"
   ]
  },
  {
   "cell_type": "code",
   "execution_count": 12,
   "id": "3a47eb3b",
   "metadata": {
    "execution": {
     "iopub.execute_input": "2025-06-14T10:15:30.277541Z",
     "iopub.status.busy": "2025-06-14T10:15:30.277105Z",
     "iopub.status.idle": "2025-06-14T10:15:30.283966Z",
     "shell.execute_reply": "2025-06-14T10:15:30.282973Z"
    },
    "papermill": {
     "duration": 0.014519,
     "end_time": "2025-06-14T10:15:30.285513",
     "exception": false,
     "start_time": "2025-06-14T10:15:30.270994",
     "status": "completed"
    },
    "tags": []
   },
   "outputs": [
    {
     "name": "stdout",
     "output_type": "stream",
     "text": [
      "✅ Renamed file:\n",
      "['__notebook__.ipynb', 'solution.csv']\n"
     ]
    }
   ],
   "source": [
    "import os\n",
    "\n",
    "# Rename the file from old name to new name\n",
    "os.rename(\"submission_xgb.csv\", \"solution.csv\")\n",
    "\n",
    "# Check to confirm\n",
    "print(\"✅ Renamed file:\")\n",
    "print(os.listdir(\"/kaggle/working/\"))\n"
   ]
  },
  {
   "cell_type": "code",
   "execution_count": null,
   "id": "c37c58f7",
   "metadata": {
    "papermill": {
     "duration": 0.004968,
     "end_time": "2025-06-14T10:15:30.295839",
     "exception": false,
     "start_time": "2025-06-14T10:15:30.290871",
     "status": "completed"
    },
    "tags": []
   },
   "outputs": [],
   "source": []
  }
 ],
 "metadata": {
  "kaggle": {
   "accelerator": "none",
   "dataSources": [
    {
     "databundleVersionId": 12651513,
     "sourceId": 104857,
     "sourceType": "competition"
    }
   ],
   "dockerImageVersionId": 31040,
   "isGpuEnabled": false,
   "isInternetEnabled": true,
   "language": "python",
   "sourceType": "notebook"
  },
  "kernelspec": {
   "display_name": "Python 3",
   "language": "python",
   "name": "python3"
  },
  "language_info": {
   "codemirror_mode": {
    "name": "ipython",
    "version": 3
   },
   "file_extension": ".py",
   "mimetype": "text/x-python",
   "name": "python",
   "nbconvert_exporter": "python",
   "pygments_lexer": "ipython3",
   "version": "3.11.11"
  },
  "papermill": {
   "default_parameters": {},
   "duration": 2340.796292,
   "end_time": "2025-06-14T10:15:31.630019",
   "environment_variables": {},
   "exception": null,
   "input_path": "__notebook__.ipynb",
   "output_path": "__notebook__.ipynb",
   "parameters": {},
   "start_time": "2025-06-14T09:36:30.833727",
   "version": "2.6.0"
  }
 },
 "nbformat": 4,
 "nbformat_minor": 5
}
